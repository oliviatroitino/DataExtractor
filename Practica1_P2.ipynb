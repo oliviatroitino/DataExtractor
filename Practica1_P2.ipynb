{
  "cells": [
    {
      "cell_type": "markdown",
      "metadata": {
        "id": "-Ajaqxfi6zMC"
      },
      "source": [
        "# Imports & other stuff"
      ]
    },
    {
      "cell_type": "code",
      "execution_count": 4,
      "metadata": {
        "id": "rkasCrn462kg"
      },
      "outputs": [],
      "source": [
        "import regex\n",
        "import pandas as pd"
      ]
    },
    {
      "cell_type": "markdown",
      "metadata": {
        "id": "jxc1kCCjcHRJ"
      },
      "source": [
        "# 1. Práctica 1\n",
        "### 1.1. DataExtractor"
      ]
    },
    {
      "cell_type": "code",
      "execution_count": 1,
      "metadata": {
        "id": "COSTbBTOfsKM"
      },
      "outputs": [],
      "source": [
        "from DataExtractor import DataExtractor\n",
        "\n",
        "extractor = DataExtractor(\"reddit_data.csv\", chunksize=100000)\n",
        "\n",
        "# Procesar los datos\n",
        "df = extractor.process_text()"
      ]
    },
    {
      "cell_type": "code",
      "execution_count": 5,
      "metadata": {
        "colab": {
          "base_uri": "https://localhost:8080/",
          "height": 1000
        },
        "id": "FfV6o5MJScO1",
        "outputId": "cb062a66-f437-4cfa-bb4a-f08c9b09a418"
      },
      "outputs": [
        {
          "data": {
            "text/html": [
              "<div>\n",
              "<style scoped>\n",
              "    .dataframe tbody tr th:only-of-type {\n",
              "        vertical-align: middle;\n",
              "    }\n",
              "\n",
              "    .dataframe tbody tr th {\n",
              "        vertical-align: top;\n",
              "    }\n",
              "\n",
              "    .dataframe thead th {\n",
              "        text-align: right;\n",
              "    }\n",
              "</style>\n",
              "<table border=\"1\" class=\"dataframe\">\n",
              "  <thead>\n",
              "    <tr style=\"text-align: right;\">\n",
              "      <th></th>\n",
              "      <th>user_name</th>\n",
              "      <th>text</th>\n",
              "      <th>Hashtags</th>\n",
              "      <th>URLs</th>\n",
              "      <th>Prices</th>\n",
              "      <th>Emoticons</th>\n",
              "      <th>Mentions</th>\n",
              "    </tr>\n",
              "  </thead>\n",
              "  <tbody>\n",
              "    <tr>\n",
              "      <th>0</th>\n",
              "      <td>AutoModerator</td>\n",
              "      <td># Greetings!\\n\\n&amp;;\\n\\nThis is the monthly \"Ope...</td>\n",
              "      <td>[]</td>\n",
              "      <td>[https://www.reddit.com/r/Twitter/wiki/suspend...</td>\n",
              "      <td>[]</td>\n",
              "      <td>[]</td>\n",
              "      <td>[]</td>\n",
              "    </tr>\n",
              "    <tr>\n",
              "      <th>1</th>\n",
              "      <td>TrueJohnWick</td>\n",
              "      <td>After 3 weeks of filling out more than a dozen...</td>\n",
              "      <td>[]</td>\n",
              "      <td>[]</td>\n",
              "      <td>[]</td>\n",
              "      <td>[]</td>\n",
              "      <td>[]</td>\n",
              "    </tr>\n",
              "    <tr>\n",
              "      <th>2</th>\n",
              "      <td>GenSkywalker98</td>\n",
              "      <td>Well isn't this just great. Someone who I foll...</td>\n",
              "      <td>[]</td>\n",
              "      <td>[]</td>\n",
              "      <td>[]</td>\n",
              "      <td>[]</td>\n",
              "      <td>[]</td>\n",
              "    </tr>\n",
              "    <tr>\n",
              "      <th>3</th>\n",
              "      <td>venombeyond</td>\n",
              "      <td>So, I'm getting this? I've had the account for...</td>\n",
              "      <td>[]</td>\n",
              "      <td>[https://preview.redd.it/deckrh5tzeme1.png?wid...</td>\n",
              "      <td>[]</td>\n",
              "      <td>[]</td>\n",
              "      <td>[]</td>\n",
              "    </tr>\n",
              "    <tr>\n",
              "      <th>4</th>\n",
              "      <td>KingKandyOwO</td>\n",
              "      <td>Twitter gives me a notification of new tweets,...</td>\n",
              "      <td>[]</td>\n",
              "      <td>[]</td>\n",
              "      <td>[]</td>\n",
              "      <td>[]</td>\n",
              "      <td>[]</td>\n",
              "    </tr>\n",
              "    <tr>\n",
              "      <th>...</th>\n",
              "      <td>...</td>\n",
              "      <td>...</td>\n",
              "      <td>...</td>\n",
              "      <td>...</td>\n",
              "      <td>...</td>\n",
              "      <td>...</td>\n",
              "      <td>...</td>\n",
              "    </tr>\n",
              "    <tr>\n",
              "      <th>95</th>\n",
              "      <td>YiddleStonks</td>\n",
              "      <td>Posting this here so I can add the picture.  R...</td>\n",
              "      <td>[]</td>\n",
              "      <td>[]</td>\n",
              "      <td>[]</td>\n",
              "      <td>[]</td>\n",
              "      <td>[]</td>\n",
              "    </tr>\n",
              "    <tr>\n",
              "      <th>96</th>\n",
              "      <td>AMM13_OM</td>\n",
              "      <td>Bonjour, mon compte a été suspendu pendant 2 s...</td>\n",
              "      <td>[]</td>\n",
              "      <td>[https://preview.redd.it/5z6dp6mnw9le1.png?wid...</td>\n",
              "      <td>[]</td>\n",
              "      <td>[]</td>\n",
              "      <td>[]</td>\n",
              "    </tr>\n",
              "    <tr>\n",
              "      <th>97</th>\n",
              "      <td>sickr</td>\n",
              "      <td>Can't get into my account with 410k followers....</td>\n",
              "      <td>[]</td>\n",
              "      <td>[]</td>\n",
              "      <td>[]</td>\n",
              "      <td>[👍]</td>\n",
              "      <td>[]</td>\n",
              "    </tr>\n",
              "    <tr>\n",
              "      <th>98</th>\n",
              "      <td>ACN_29</td>\n",
              "      <td>I tried many times to change it but it still d...</td>\n",
              "      <td>[]</td>\n",
              "      <td>[]</td>\n",
              "      <td>[]</td>\n",
              "      <td>[]</td>\n",
              "      <td>[]</td>\n",
              "    </tr>\n",
              "    <tr>\n",
              "      <th>99</th>\n",
              "      <td>ironcub14</td>\n",
              "      <td>I’ve had about a dozen Android and about a doz...</td>\n",
              "      <td>[]</td>\n",
              "      <td>[]</td>\n",
              "      <td>[]</td>\n",
              "      <td>[]</td>\n",
              "      <td>[]</td>\n",
              "    </tr>\n",
              "  </tbody>\n",
              "</table>\n",
              "<p>100 rows × 7 columns</p>\n",
              "</div>"
            ],
            "text/plain": [
              "         user_name                                               text  \\\n",
              "0    AutoModerator  # Greetings!\\n\\n&;\\n\\nThis is the monthly \"Ope...   \n",
              "1     TrueJohnWick  After 3 weeks of filling out more than a dozen...   \n",
              "2   GenSkywalker98  Well isn't this just great. Someone who I foll...   \n",
              "3      venombeyond  So, I'm getting this? I've had the account for...   \n",
              "4     KingKandyOwO  Twitter gives me a notification of new tweets,...   \n",
              "..             ...                                                ...   \n",
              "95    YiddleStonks  Posting this here so I can add the picture.  R...   \n",
              "96        AMM13_OM  Bonjour, mon compte a été suspendu pendant 2 s...   \n",
              "97           sickr  Can't get into my account with 410k followers....   \n",
              "98          ACN_29  I tried many times to change it but it still d...   \n",
              "99       ironcub14  I’ve had about a dozen Android and about a doz...   \n",
              "\n",
              "   Hashtags                                               URLs Prices  \\\n",
              "0        []  [https://www.reddit.com/r/Twitter/wiki/suspend...     []   \n",
              "1        []                                                 []     []   \n",
              "2        []                                                 []     []   \n",
              "3        []  [https://preview.redd.it/deckrh5tzeme1.png?wid...     []   \n",
              "4        []                                                 []     []   \n",
              "..      ...                                                ...    ...   \n",
              "95       []                                                 []     []   \n",
              "96       []  [https://preview.redd.it/5z6dp6mnw9le1.png?wid...     []   \n",
              "97       []                                                 []     []   \n",
              "98       []                                                 []     []   \n",
              "99       []                                                 []     []   \n",
              "\n",
              "   Emoticons Mentions  \n",
              "0         []       []  \n",
              "1         []       []  \n",
              "2         []       []  \n",
              "3         []       []  \n",
              "4         []       []  \n",
              "..       ...      ...  \n",
              "95        []       []  \n",
              "96        []       []  \n",
              "97       [👍]       []  \n",
              "98        []       []  \n",
              "99        []       []  \n",
              "\n",
              "[100 rows x 7 columns]"
            ]
          },
          "execution_count": 5,
          "metadata": {},
          "output_type": "execute_result"
        }
      ],
      "source": [
        "# Mostrar las primeras filas del DataFrame\n",
        "df.head(100)"
      ]
    },
    {
      "cell_type": "code",
      "execution_count": 3,
      "metadata": {
        "id": "hBzvauXrSdnH"
      },
      "outputs": [],
      "source": [
        "df.to_csv('reddit_procesados.csv', index=False)"
      ]
    }
  ],
  "metadata": {
    "colab": {
      "collapsed_sections": [
        "jPJwtmAg6GQr"
      ],
      "provenance": []
    },
    "kernelspec": {
      "display_name": "Python 3",
      "name": "python3"
    },
    "language_info": {
      "codemirror_mode": {
        "name": "ipython",
        "version": 3
      },
      "file_extension": ".py",
      "mimetype": "text/x-python",
      "name": "python",
      "nbconvert_exporter": "python",
      "pygments_lexer": "ipython3",
      "version": "3.12.6"
    }
  },
  "nbformat": 4,
  "nbformat_minor": 0
}
