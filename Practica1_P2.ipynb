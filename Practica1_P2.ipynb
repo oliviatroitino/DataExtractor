{
  "cells": [
    {
      "cell_type": "code",
      "execution_count": 1,
      "metadata": {
        "id": "rkasCrn462kg"
      },
      "outputs": [],
      "source": [
        "import regex\n",
        "import pandas as pd\n",
        "from DataExtractor import DataExtractor"
      ]
    },
    {
      "cell_type": "code",
      "execution_count": 2,
      "metadata": {
        "id": "COSTbBTOfsKM"
      },
      "outputs": [],
      "source": [
        "extractor = DataExtractor(\"Reddit_posts_dataset.csv\", chunksize=100000)\n",
        "\n",
        "# Procesar los datos\n",
        "df = extractor.process_text()"
      ]
    },
    {
      "cell_type": "code",
      "execution_count": 3,
      "metadata": {
        "colab": {
          "base_uri": "https://localhost:8080/",
          "height": 1000
        },
        "id": "FfV6o5MJScO1",
        "outputId": "cb062a66-f437-4cfa-bb4a-f08c9b09a418"
      },
      "outputs": [
        {
          "data": {
            "text/html": [
              "<div>\n",
              "<style scoped>\n",
              "    .dataframe tbody tr th:only-of-type {\n",
              "        vertical-align: middle;\n",
              "    }\n",
              "\n",
              "    .dataframe tbody tr th {\n",
              "        vertical-align: top;\n",
              "    }\n",
              "\n",
              "    .dataframe thead th {\n",
              "        text-align: right;\n",
              "    }\n",
              "</style>\n",
              "<table border=\"1\" class=\"dataframe\">\n",
              "  <thead>\n",
              "    <tr style=\"text-align: right;\">\n",
              "      <th></th>\n",
              "      <th>user_name</th>\n",
              "      <th>text</th>\n",
              "      <th>Hashtags</th>\n",
              "      <th>URLs</th>\n",
              "      <th>Prices</th>\n",
              "      <th>Emoticons</th>\n",
              "      <th>Mentions</th>\n",
              "    </tr>\n",
              "  </thead>\n",
              "  <tbody>\n",
              "    <tr>\n",
              "      <th>0</th>\n",
              "      <td>AutoModerator</td>\n",
              "      <td># Greetings!\\n\\n&amp;;\\n\\nThis is the monthly \"Ope...</td>\n",
              "      <td>[]</td>\n",
              "      <td>[https://www.reddit.com/r/Twitter/wiki/suspend...</td>\n",
              "      <td>[]</td>\n",
              "      <td>[]</td>\n",
              "      <td>[]</td>\n",
              "    </tr>\n",
              "    <tr>\n",
              "      <th>1</th>\n",
              "      <td>Skywalkerjet3D</td>\n",
              "      <td>https://preview.redd.it/0thr1crjqgme1.png?widt...</td>\n",
              "      <td>[]</td>\n",
              "      <td>[https://preview.redd.it/0thr1crjqgme1.png?wid...</td>\n",
              "      <td>[]</td>\n",
              "      <td>[]</td>\n",
              "      <td>[]</td>\n",
              "    </tr>\n",
              "    <tr>\n",
              "      <th>2</th>\n",
              "      <td>Tammera4u</td>\n",
              "      <td>So I rarely use it, but it spams my notificati...</td>\n",
              "      <td>[]</td>\n",
              "      <td>[]</td>\n",
              "      <td>[]</td>\n",
              "      <td>[]</td>\n",
              "      <td>[]</td>\n",
              "    </tr>\n",
              "    <tr>\n",
              "      <th>3</th>\n",
              "      <td>StunningRole9745</td>\n",
              "      <td>Is there still a website or app that can autom...</td>\n",
              "      <td>[]</td>\n",
              "      <td>[]</td>\n",
              "      <td>[]</td>\n",
              "      <td>[]</td>\n",
              "      <td>[]</td>\n",
              "    </tr>\n",
              "    <tr>\n",
              "      <th>4</th>\n",
              "      <td>TrueJohnWick</td>\n",
              "      <td>After 3 weeks of filling out more than a dozen...</td>\n",
              "      <td>[]</td>\n",
              "      <td>[]</td>\n",
              "      <td>[]</td>\n",
              "      <td>[]</td>\n",
              "      <td>[]</td>\n",
              "    </tr>\n",
              "    <tr>\n",
              "      <th>5</th>\n",
              "      <td>TheMaskedOwlet</td>\n",
              "      <td>I'm not sure how I got this email today, as no...</td>\n",
              "      <td>[]</td>\n",
              "      <td>[]</td>\n",
              "      <td>[]</td>\n",
              "      <td>[]</td>\n",
              "      <td>[]</td>\n",
              "    </tr>\n",
              "    <tr>\n",
              "      <th>6</th>\n",
              "      <td>Surethanks0</td>\n",
              "      <td>I've been trying many times but always get car...</td>\n",
              "      <td>[]</td>\n",
              "      <td>[]</td>\n",
              "      <td>[]</td>\n",
              "      <td>[]</td>\n",
              "      <td>[]</td>\n",
              "    </tr>\n",
              "    <tr>\n",
              "      <th>7</th>\n",
              "      <td>CobolCoder1983</td>\n",
              "      <td>I've reported literally hundreds of them but i...</td>\n",
              "      <td>[]</td>\n",
              "      <td>[]</td>\n",
              "      <td>[]</td>\n",
              "      <td>[]</td>\n",
              "      <td>[]</td>\n",
              "    </tr>\n",
              "    <tr>\n",
              "      <th>8</th>\n",
              "      <td>venombeyond</td>\n",
              "      <td>So, I'm getting this? I've had the account for...</td>\n",
              "      <td>[]</td>\n",
              "      <td>[https://preview.redd.it/deckrh5tzeme1.png?wid...</td>\n",
              "      <td>[]</td>\n",
              "      <td>[]</td>\n",
              "      <td>[]</td>\n",
              "    </tr>\n",
              "    <tr>\n",
              "      <th>9</th>\n",
              "      <td>KingKandyOwO</td>\n",
              "      <td>Twitter gives me a notification of new tweets,...</td>\n",
              "      <td>[]</td>\n",
              "      <td>[]</td>\n",
              "      <td>[]</td>\n",
              "      <td>[]</td>\n",
              "      <td>[]</td>\n",
              "    </tr>\n",
              "  </tbody>\n",
              "</table>\n",
              "</div>"
            ],
            "text/plain": [
              "          user_name                                               text  \\\n",
              "0     AutoModerator  # Greetings!\\n\\n&;\\n\\nThis is the monthly \"Ope...   \n",
              "1    Skywalkerjet3D  https://preview.redd.it/0thr1crjqgme1.png?widt...   \n",
              "2         Tammera4u  So I rarely use it, but it spams my notificati...   \n",
              "3  StunningRole9745  Is there still a website or app that can autom...   \n",
              "4      TrueJohnWick  After 3 weeks of filling out more than a dozen...   \n",
              "5    TheMaskedOwlet  I'm not sure how I got this email today, as no...   \n",
              "6       Surethanks0  I've been trying many times but always get car...   \n",
              "7    CobolCoder1983  I've reported literally hundreds of them but i...   \n",
              "8       venombeyond  So, I'm getting this? I've had the account for...   \n",
              "9      KingKandyOwO  Twitter gives me a notification of new tweets,...   \n",
              "\n",
              "  Hashtags                                               URLs Prices  \\\n",
              "0       []  [https://www.reddit.com/r/Twitter/wiki/suspend...     []   \n",
              "1       []  [https://preview.redd.it/0thr1crjqgme1.png?wid...     []   \n",
              "2       []                                                 []     []   \n",
              "3       []                                                 []     []   \n",
              "4       []                                                 []     []   \n",
              "5       []                                                 []     []   \n",
              "6       []                                                 []     []   \n",
              "7       []                                                 []     []   \n",
              "8       []  [https://preview.redd.it/deckrh5tzeme1.png?wid...     []   \n",
              "9       []                                                 []     []   \n",
              "\n",
              "  Emoticons Mentions  \n",
              "0        []       []  \n",
              "1        []       []  \n",
              "2        []       []  \n",
              "3        []       []  \n",
              "4        []       []  \n",
              "5        []       []  \n",
              "6        []       []  \n",
              "7        []       []  \n",
              "8        []       []  \n",
              "9        []       []  "
            ]
          },
          "execution_count": 3,
          "metadata": {},
          "output_type": "execute_result"
        }
      ],
      "source": [
        "# Mostrar las primeras filas del DataFrame\n",
        "df.head(10)"
      ]
    },
    {
      "cell_type": "code",
      "execution_count": 4,
      "metadata": {
        "id": "hBzvauXrSdnH"
      },
      "outputs": [],
      "source": [
        "df.to_csv('reddit_procesados.csv', index=False)"
      ]
    }
  ],
  "metadata": {
    "colab": {
      "collapsed_sections": [
        "jPJwtmAg6GQr"
      ],
      "provenance": []
    },
    "kernelspec": {
      "display_name": "Python 3",
      "name": "python3"
    },
    "language_info": {
      "codemirror_mode": {
        "name": "ipython",
        "version": 3
      },
      "file_extension": ".py",
      "mimetype": "text/x-python",
      "name": "python",
      "nbconvert_exporter": "python",
      "pygments_lexer": "ipython3",
      "version": "3.12.6"
    }
  },
  "nbformat": 4,
  "nbformat_minor": 0
}
