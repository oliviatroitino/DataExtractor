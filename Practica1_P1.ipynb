{
  "cells": [
    {
      "cell_type": "markdown",
      "metadata": {
        "id": "-Ajaqxfi6zMC"
      },
      "source": [
        "# Imports"
      ]
    },
    {
      "cell_type": "code",
      "execution_count": 2,
      "metadata": {
        "id": "rkasCrn462kg"
      },
      "outputs": [],
      "source": [
        "import regex\n",
        "import pandas as pd"
      ]
    },
    {
      "cell_type": "markdown",
      "metadata": {
        "id": "jxc1kCCjcHRJ"
      },
      "source": [
        "### 1. Práctica 1 Parte 1: Twitter"
      ]
    },
    {
      "cell_type": "code",
      "execution_count": 3,
      "metadata": {
        "id": "COSTbBTOfsKM"
      },
      "outputs": [],
      "source": [
        "from DataExtractor import DataExtractor\n",
        "\n",
        "extractor = DataExtractor(\"Bitcoin_tweets_dataset_2.csv\", chunksize=100000)\n",
        "\n",
        "# Procesar los datos\n",
        "df = extractor.process_text()"
      ]
    },
    {
      "cell_type": "code",
      "execution_count": 4,
      "metadata": {
        "colab": {
          "base_uri": "https://localhost:8080/",
          "height": 1000
        },
        "id": "FfV6o5MJScO1",
        "outputId": "cb062a66-f437-4cfa-bb4a-f08c9b09a418"
      },
      "outputs": [
        {
          "data": {
            "text/html": [
              "<div>\n",
              "<style scoped>\n",
              "    .dataframe tbody tr th:only-of-type {\n",
              "        vertical-align: middle;\n",
              "    }\n",
              "\n",
              "    .dataframe tbody tr th {\n",
              "        vertical-align: top;\n",
              "    }\n",
              "\n",
              "    .dataframe thead th {\n",
              "        text-align: right;\n",
              "    }\n",
              "</style>\n",
              "<table border=\"1\" class=\"dataframe\">\n",
              "  <thead>\n",
              "    <tr style=\"text-align: right;\">\n",
              "      <th></th>\n",
              "      <th>user_name</th>\n",
              "      <th>text</th>\n",
              "      <th>Hashtags</th>\n",
              "      <th>URLs</th>\n",
              "      <th>Prices</th>\n",
              "      <th>Emoticons</th>\n",
              "      <th>Mentions</th>\n",
              "    </tr>\n",
              "  </thead>\n",
              "  <tbody>\n",
              "    <tr>\n",
              "      <th>0</th>\n",
              "      <td>ChefSam</td>\n",
              "      <td>Which #bitcoin books should I think about read...</td>\n",
              "      <td>[#bitcoin]</td>\n",
              "      <td>[https://t.co/32gas26rKB]</td>\n",
              "      <td>[]</td>\n",
              "      <td>[]</td>\n",
              "      <td>[]</td>\n",
              "    </tr>\n",
              "    <tr>\n",
              "      <th>1</th>\n",
              "      <td>Roy⚡️</td>\n",
              "      <td>@ThankGodForBTC I appreciate the message, but ...</td>\n",
              "      <td>[#Bitcoin]</td>\n",
              "      <td>[]</td>\n",
              "      <td>[]</td>\n",
              "      <td>[]</td>\n",
              "      <td>[@ThankGodForBTC]</td>\n",
              "    </tr>\n",
              "    <tr>\n",
              "      <th>2</th>\n",
              "      <td>Ethereum Yoda</td>\n",
              "      <td>#Ethereum price update: \\n\\n#ETH $1664.02 USD\\...</td>\n",
              "      <td>[#Ethereum, #ETH, #Bitcoin, #BTC, #altcoin, #c...</td>\n",
              "      <td>[]</td>\n",
              "      <td>[1664.02]</td>\n",
              "      <td>[]</td>\n",
              "      <td>[]</td>\n",
              "    </tr>\n",
              "    <tr>\n",
              "      <th>3</th>\n",
              "      <td>Viction</td>\n",
              "      <td>CoinDashboard v3.0 is here\\nAvailable on ios a...</td>\n",
              "      <td>[#Bitcoin]</td>\n",
              "      <td>[https://t.co/tMCQllv9rj]</td>\n",
              "      <td>[]</td>\n",
              "      <td>[]</td>\n",
              "      <td>[]</td>\n",
              "    </tr>\n",
              "    <tr>\n",
              "      <th>4</th>\n",
              "      <td>Rosie</td>\n",
              "      <td>#Bitcoin Short Term Fractal (4H)💥\\n\\nIn lower ...</td>\n",
              "      <td>[#Bitcoin, #BTC]</td>\n",
              "      <td>[https://t.co/2MG9yL7SDa]</td>\n",
              "      <td>[]</td>\n",
              "      <td>[💥, 🫡]</td>\n",
              "      <td>[]</td>\n",
              "    </tr>\n",
              "  </tbody>\n",
              "</table>\n",
              "</div>"
            ],
            "text/plain": [
              "       user_name                                               text  \\\n",
              "0        ChefSam  Which #bitcoin books should I think about read...   \n",
              "1          Roy⚡️  @ThankGodForBTC I appreciate the message, but ...   \n",
              "2  Ethereum Yoda  #Ethereum price update: \\n\\n#ETH $1664.02 USD\\...   \n",
              "3        Viction  CoinDashboard v3.0 is here\\nAvailable on ios a...   \n",
              "4          Rosie  #Bitcoin Short Term Fractal (4H)💥\\n\\nIn lower ...   \n",
              "\n",
              "                                            Hashtags  \\\n",
              "0                                         [#bitcoin]   \n",
              "1                                         [#Bitcoin]   \n",
              "2  [#Ethereum, #ETH, #Bitcoin, #BTC, #altcoin, #c...   \n",
              "3                                         [#Bitcoin]   \n",
              "4                                   [#Bitcoin, #BTC]   \n",
              "\n",
              "                        URLs     Prices Emoticons           Mentions  \n",
              "0  [https://t.co/32gas26rKB]         []        []                 []  \n",
              "1                         []         []        []  [@ThankGodForBTC]  \n",
              "2                         []  [1664.02]        []                 []  \n",
              "3  [https://t.co/tMCQllv9rj]         []        []                 []  \n",
              "4  [https://t.co/2MG9yL7SDa]         []    [💥, 🫡]                 []  "
            ]
          },
          "execution_count": 4,
          "metadata": {},
          "output_type": "execute_result"
        }
      ],
      "source": [
        "# Mostrar las primeras filas del DataFrame\n",
        "df.head(5)"
      ]
    },
    {
      "cell_type": "code",
      "execution_count": 5,
      "metadata": {
        "id": "hBzvauXrSdnH"
      },
      "outputs": [],
      "source": [
        "df.to_csv('tweets_procesados.csv', index=False)"
      ]
    }
  ],
  "metadata": {
    "colab": {
      "collapsed_sections": [
        "jPJwtmAg6GQr"
      ],
      "provenance": []
    },
    "kernelspec": {
      "display_name": "Python 3",
      "name": "python3"
    },
    "language_info": {
      "codemirror_mode": {
        "name": "ipython",
        "version": 3
      },
      "file_extension": ".py",
      "mimetype": "text/x-python",
      "name": "python",
      "nbconvert_exporter": "python",
      "pygments_lexer": "ipython3",
      "version": "3.12.6"
    }
  },
  "nbformat": 4,
  "nbformat_minor": 0
}
