{
  "cells": [
    {
      "cell_type": "code",
      "execution_count": 6,
      "metadata": {
        "id": "rkasCrn462kg"
      },
      "outputs": [],
      "source": [
        "# IMPORTS\n",
        "import regex\n",
        "import pandas as pd\n",
        "from DataExtractor import DataExtractor\n"
      ]
    },
    {
      "cell_type": "code",
      "execution_count": 7,
      "metadata": {
        "id": "COSTbBTOfsKM"
      },
      "outputs": [],
      "source": [
        "# DECLARACIÓN DATAEXTRACTOR\n",
        "extractor = DataExtractor(\"Bitcoin_tweets_dataset_2.csv\", chunksize=100000)\n",
        "\n",
        "# Procesar los datos\n",
        "df = extractor.process_text()"
      ]
    },
    {
      "cell_type": "code",
      "execution_count": 8,
      "metadata": {
        "colab": {
          "base_uri": "https://localhost:8080/",
          "height": 1000
        },
        "id": "FfV6o5MJScO1",
        "outputId": "cb062a66-f437-4cfa-bb4a-f08c9b09a418"
      },
      "outputs": [
        {
          "data": {
            "text/html": [
              "<div>\n",
              "<style scoped>\n",
              "    .dataframe tbody tr th:only-of-type {\n",
              "        vertical-align: middle;\n",
              "    }\n",
              "\n",
              "    .dataframe tbody tr th {\n",
              "        vertical-align: top;\n",
              "    }\n",
              "\n",
              "    .dataframe thead th {\n",
              "        text-align: right;\n",
              "    }\n",
              "</style>\n",
              "<table border=\"1\" class=\"dataframe\">\n",
              "  <thead>\n",
              "    <tr style=\"text-align: right;\">\n",
              "      <th></th>\n",
              "      <th>user_name</th>\n",
              "      <th>text</th>\n",
              "      <th>Hashtags</th>\n",
              "      <th>URLs</th>\n",
              "      <th>Prices</th>\n",
              "      <th>Emoticons</th>\n",
              "      <th>Mentions</th>\n",
              "    </tr>\n",
              "  </thead>\n",
              "  <tbody>\n",
              "    <tr>\n",
              "      <th>0</th>\n",
              "      <td>ChefSam</td>\n",
              "      <td>Which #bitcoin books should I think about read...</td>\n",
              "      <td>[#bitcoin]</td>\n",
              "      <td>[https://t.co/32gas26rKB]</td>\n",
              "      <td>[]</td>\n",
              "      <td>[]</td>\n",
              "      <td>[]</td>\n",
              "    </tr>\n",
              "    <tr>\n",
              "      <th>1</th>\n",
              "      <td>Roy⚡️</td>\n",
              "      <td>@ThankGodForBTC I appreciate the message, but ...</td>\n",
              "      <td>[#Bitcoin]</td>\n",
              "      <td>[]</td>\n",
              "      <td>[]</td>\n",
              "      <td>[]</td>\n",
              "      <td>[@ThankGodForBTC]</td>\n",
              "    </tr>\n",
              "    <tr>\n",
              "      <th>2</th>\n",
              "      <td>Ethereum Yoda</td>\n",
              "      <td>#Ethereum price update: \\n\\n#ETH $1664.02 USD\\...</td>\n",
              "      <td>[#Ethereum, #ETH, #Bitcoin, #BTC, #altcoin, #c...</td>\n",
              "      <td>[]</td>\n",
              "      <td>[1664.02]</td>\n",
              "      <td>[]</td>\n",
              "      <td>[]</td>\n",
              "    </tr>\n",
              "    <tr>\n",
              "      <th>3</th>\n",
              "      <td>Viction</td>\n",
              "      <td>CoinDashboard v3.0 is here\\nAvailable on ios a...</td>\n",
              "      <td>[#Bitcoin]</td>\n",
              "      <td>[https://t.co/tMCQllv9rj]</td>\n",
              "      <td>[]</td>\n",
              "      <td>[]</td>\n",
              "      <td>[]</td>\n",
              "    </tr>\n",
              "    <tr>\n",
              "      <th>4</th>\n",
              "      <td>Rosie</td>\n",
              "      <td>#Bitcoin Short Term Fractal (4H)💥\\n\\nIn lower ...</td>\n",
              "      <td>[#Bitcoin, #BTC]</td>\n",
              "      <td>[https://t.co/2MG9yL7SDa]</td>\n",
              "      <td>[]</td>\n",
              "      <td>[💥, 🫡]</td>\n",
              "      <td>[]</td>\n",
              "    </tr>\n",
              "    <tr>\n",
              "      <th>5</th>\n",
              "      <td>AkinHack</td>\n",
              "      <td>Y’all Message me for any account recovery or h...</td>\n",
              "      <td>[#CYBER, #security, #Coinbase, #Bitcoin, #BNB,...</td>\n",
              "      <td>[]</td>\n",
              "      <td>[]</td>\n",
              "      <td>[]</td>\n",
              "      <td>[]</td>\n",
              "    </tr>\n",
              "    <tr>\n",
              "      <th>6</th>\n",
              "      <td>CAIR (Pump/Dump)</td>\n",
              "      <td>PUMP : 4-Hour Chart (1x!) (NORMAL)\\nCoin    : ...</td>\n",
              "      <td>[#FILUSDT, #FIL, #Bitcoin]</td>\n",
              "      <td>[https://t.co/zKtYat6duH]</td>\n",
              "      <td>[]</td>\n",
              "      <td>[]</td>\n",
              "      <td>[]</td>\n",
              "    </tr>\n",
              "    <tr>\n",
              "      <th>7</th>\n",
              "      <td>NFTevening</td>\n",
              "      <td>📰TwelveFold by @yugalabs Unveils Unique #Bitco...</td>\n",
              "      <td>[#Bitcoin, #NFTs]</td>\n",
              "      <td>[https://t.co/UqSa1MkQiJ]</td>\n",
              "      <td>[]</td>\n",
              "      <td>[📰, 🟣, 🟣]</td>\n",
              "      <td>[@yugalabs]</td>\n",
              "    </tr>\n",
              "    <tr>\n",
              "      <th>8</th>\n",
              "      <td>AbdeL</td>\n",
              "      <td>@BitcoinBullsNFT The first my #NFT in  #Bitcoi...</td>\n",
              "      <td>[#NFT, #Bitcoin]</td>\n",
              "      <td>[https://t.co/hO6t69frCZ]</td>\n",
              "      <td>[]</td>\n",
              "      <td>[]</td>\n",
              "      <td>[@BitcoinBullsNFT]</td>\n",
              "    </tr>\n",
              "    <tr>\n",
              "      <th>9</th>\n",
              "      <td>PUBLORD</td>\n",
              "      <td>Your first #Bitcoin Halving will age and humbl...</td>\n",
              "      <td>[#Bitcoin]</td>\n",
              "      <td>[https://t.co/U6JwlLNlMg]</td>\n",
              "      <td>[]</td>\n",
              "      <td>[😉😂]</td>\n",
              "      <td>[]</td>\n",
              "    </tr>\n",
              "  </tbody>\n",
              "</table>\n",
              "</div>"
            ],
            "text/plain": [
              "          user_name                                               text  \\\n",
              "0           ChefSam  Which #bitcoin books should I think about read...   \n",
              "1             Roy⚡️  @ThankGodForBTC I appreciate the message, but ...   \n",
              "2     Ethereum Yoda  #Ethereum price update: \\n\\n#ETH $1664.02 USD\\...   \n",
              "3           Viction  CoinDashboard v3.0 is here\\nAvailable on ios a...   \n",
              "4             Rosie  #Bitcoin Short Term Fractal (4H)💥\\n\\nIn lower ...   \n",
              "5          AkinHack  Y’all Message me for any account recovery or h...   \n",
              "6  CAIR (Pump/Dump)  PUMP : 4-Hour Chart (1x!) (NORMAL)\\nCoin    : ...   \n",
              "7        NFTevening  📰TwelveFold by @yugalabs Unveils Unique #Bitco...   \n",
              "8             AbdeL  @BitcoinBullsNFT The first my #NFT in  #Bitcoi...   \n",
              "9           PUBLORD  Your first #Bitcoin Halving will age and humbl...   \n",
              "\n",
              "                                            Hashtags  \\\n",
              "0                                         [#bitcoin]   \n",
              "1                                         [#Bitcoin]   \n",
              "2  [#Ethereum, #ETH, #Bitcoin, #BTC, #altcoin, #c...   \n",
              "3                                         [#Bitcoin]   \n",
              "4                                   [#Bitcoin, #BTC]   \n",
              "5  [#CYBER, #security, #Coinbase, #Bitcoin, #BNB,...   \n",
              "6                         [#FILUSDT, #FIL, #Bitcoin]   \n",
              "7                                  [#Bitcoin, #NFTs]   \n",
              "8                                   [#NFT, #Bitcoin]   \n",
              "9                                         [#Bitcoin]   \n",
              "\n",
              "                        URLs     Prices  Emoticons            Mentions  \n",
              "0  [https://t.co/32gas26rKB]         []         []                  []  \n",
              "1                         []         []         []   [@ThankGodForBTC]  \n",
              "2                         []  [1664.02]         []                  []  \n",
              "3  [https://t.co/tMCQllv9rj]         []         []                  []  \n",
              "4  [https://t.co/2MG9yL7SDa]         []     [💥, 🫡]                  []  \n",
              "5                         []         []         []                  []  \n",
              "6  [https://t.co/zKtYat6duH]         []         []                  []  \n",
              "7  [https://t.co/UqSa1MkQiJ]         []  [📰, 🟣, 🟣]         [@yugalabs]  \n",
              "8  [https://t.co/hO6t69frCZ]         []         []  [@BitcoinBullsNFT]  \n",
              "9  [https://t.co/U6JwlLNlMg]         []       [😉😂]                  []  "
            ]
          },
          "execution_count": 8,
          "metadata": {},
          "output_type": "execute_result"
        }
      ],
      "source": [
        "# Mostrar las primeras filas del DataFrame\n",
        "df.head(10)"
      ]
    },
    {
      "cell_type": "code",
      "execution_count": 9,
      "metadata": {
        "id": "hBzvauXrSdnH"
      },
      "outputs": [],
      "source": [
        "# EXPORTAR CSV DATOS PROCESADOS\n",
        "df.to_csv('tweets_procesados.csv', index=False)"
      ]
    }
  ],
  "metadata": {
    "colab": {
      "collapsed_sections": [
        "jPJwtmAg6GQr"
      ],
      "provenance": []
    },
    "kernelspec": {
      "display_name": "Python 3",
      "name": "python3"
    },
    "language_info": {
      "codemirror_mode": {
        "name": "ipython",
        "version": 3
      },
      "file_extension": ".py",
      "mimetype": "text/x-python",
      "name": "python",
      "nbconvert_exporter": "python",
      "pygments_lexer": "ipython3",
      "version": "3.12.6"
    }
  },
  "nbformat": 4,
  "nbformat_minor": 0
}
